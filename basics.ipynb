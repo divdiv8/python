{
 "cells": [
  {
   "attachments": {},
   "cell_type": "markdown",
   "metadata": {},
   "source": [
    "July 13"
   ]
  },
  {
   "cell_type": "code",
   "execution_count": 1,
   "metadata": {},
   "outputs": [
    {
     "name": "stdout",
     "output_type": "stream",
     "text": [
      "Jane\n",
      "meet Jane\n",
      "Jane works as a software engineer\n",
      "Elise is Jane's manager\n",
      "4342486384\n",
      "4342486384\n"
     ]
    }
   ],
   "source": [
    "print(\"Jane\")\n",
    "name = \"Jane\"\n",
    "print(\"meet\",name)\n",
    "print(\"%s works as a software engineer\"%name)\n",
    "print(\"Elise is %s's manager\"%name)\n",
    "#in python variables with same value hold the same memory space\n",
    "name = \"May\"\n",
    "name2 = \"May\"\n",
    "print(id(name))\n",
    "print(id(name2)) # memory address"
   ]
  },
  {
   "cell_type": "code",
   "execution_count": 2,
   "metadata": {},
   "outputs": [
    {
     "name": "stdout",
     "output_type": "stream",
     "text": [
      "<class 'int'>\n",
      "<class 'float'>\n",
      "(5+6j) <class 'complex'>\n",
      "4.0\n",
      "(4+0j)\n",
      "9\n"
     ]
    }
   ],
   "source": [
    "num = 5\n",
    "print(type(num)) #int\n",
    "\n",
    "num = 5.6\n",
    "print(type(num)) #float\n",
    "\n",
    "num = 5+6j\n",
    "print(num,type(num)) #complex\n",
    "\n",
    "#conversions\n",
    "num=4\n",
    "print(float(num))\n",
    "print(complex(num))\n",
    "num=9.8\n",
    "print(int(num))"
   ]
  },
  {
   "cell_type": "code",
   "execution_count": 24,
   "metadata": {},
   "outputs": [],
   "source": [
    "#lists - collection of data, holds multiple datatypes\n",
    "#tuples - immutable (cant be changed) collection of heterogenous data\n",
    "#set - unordered collection of unnique heterogenenous data"
   ]
  },
  {
   "attachments": {},
   "cell_type": "markdown",
   "metadata": {},
   "source": [
    "July 14"
   ]
  },
  {
   "cell_type": "code",
   "execution_count": 25,
   "metadata": {},
   "outputs": [
    {
     "name": "stdout",
     "output_type": "stream",
     "text": [
      "[1, 4, 5, 6, 7, 8, 9]\n",
      "1\n",
      "4\n",
      "7\n",
      "9\n",
      "[1, 4, 5, 6]\n",
      "[5, 6]\n",
      "[1, 4, 5]\n",
      "[6, 7, 8, 9]\n",
      "[4, 6, 8]\n",
      "[1, 2, 7.5, 'python']\n",
      "python\n",
      "[1, 2, 7.5, 'python', 'hi']\n",
      "[1, 2, [2, 3, 4]]\n",
      "[1, 2, [2, 3, 4], [7, 8, 9]]\n",
      "[1, 2, [2, 3, 4], [7, 8, 9], 4, 5, 6]\n"
     ]
    }
   ],
   "source": [
    "lst = [1,4,5,6,7,8,9]\n",
    "print(lst)\n",
    "print(lst[0])\n",
    "print(lst[1])\n",
    "print(len(lst))\n",
    "print(lst[-1])\n",
    "print(lst[0:4])\n",
    "print(lst[2:4])#second number-1\n",
    "print(lst[:-4])#upto -4 = 6, not including\n",
    "print(lst[-4:])\n",
    "print(lst[1::2])#adds +2 while looping through list\n",
    "\n",
    "l = [1,2,7.5,'python']\n",
    "print(l)\n",
    "print(l[3])\n",
    "l.append(\"hi\")\n",
    "print(l)\n",
    "\n",
    "\n",
    "#nested lists\n",
    "\n",
    "nested = [1,2,[2,3,4]]\n",
    "print(nested)\n",
    "nested.extend([[7,8,9]])\n",
    "print(nested)\n",
    "nested.extend([4,5,6])\n",
    "print(nested)"
   ]
  },
  {
   "cell_type": "code",
   "execution_count": 4,
   "metadata": {},
   "outputs": [
    {
     "name": "stdout",
     "output_type": "stream",
     "text": [
      "(1, 2, 3)\n",
      "(1,)\n",
      "(5, 6, 7)\n",
      "5 6 7\n",
      "5 [6, 7]\n"
     ]
    }
   ],
   "source": [
    "#tuples\n",
    "tpl = (1,2,3)\n",
    "print(tpl)\n",
    "print(tpl[:1])\n",
    "#all indexing concepts are same as in list\n",
    "#tpl[1]=7 -- 'tuple' object does not support item assignment\n",
    "#used for keys, things that we want to be unchangeable\n",
    "\n",
    "#packing and unpacking\n",
    "tpl = 5,6,7\n",
    "print(tpl)\n",
    "a,b,c = tpl\n",
    "print(a,b,c)\n",
    "a,*lst = tpl\n",
    "print(a,lst)"
   ]
  },
  {
   "cell_type": "code",
   "execution_count": 8,
   "metadata": {},
   "outputs": [
    {
     "name": "stdout",
     "output_type": "stream",
     "text": [
      "{1, 2, 3, 4, 5}\n",
      "[1, 2, 3, 33, 3, 3, 3]\n",
      "{1, 2, 3, 33}\n"
     ]
    }
   ],
   "source": [
    "#set\n",
    "s= {1,2,3,4,5,5}\n",
    "print(s)\n",
    "#s[1]=1\n",
    "#not changeable\n",
    "lst = [1,2,3,33,3,3,3]\n",
    "print(lst)\n",
    "print(set(lst))"
   ]
  },
  {
   "cell_type": "code",
   "execution_count": 16,
   "metadata": {},
   "outputs": [
    {
     "name": "stdout",
     "output_type": "stream",
     "text": [
      "15\n",
      "5\n",
      "50\n",
      "2.0\n",
      "0\n",
      "2\n",
      "100000\n",
      "100\n",
      "11\n",
      "121\n"
     ]
    }
   ],
   "source": [
    "#arithmetic operators\n",
    "a,b=10,5\n",
    "print(a+b)\n",
    "print(a-b)\n",
    "print(a*b)\n",
    "print(a/b)\n",
    "print(a%b)\n",
    "print(a//b)\n",
    "print(a**b)\n",
    "print(a**2)\n",
    "\n",
    "#shorthand\n",
    "count = 10\n",
    "count+=1 # -= , /= , *= , %= , //= ,**=\n",
    "print(count)\n",
    "count **=2\n",
    "print(count)"
   ]
  },
  {
   "cell_type": "code",
   "execution_count": 23,
   "metadata": {},
   "outputs": [
    {
     "name": "stdout",
     "output_type": "stream",
     "text": [
      "10 5\n",
      "True\n",
      "False\n",
      "True\n",
      "False\n",
      "False\n",
      "True\n",
      "10 5 40\n",
      "True\n",
      "True\n",
      "False\n"
     ]
    }
   ],
   "source": [
    "#relational operators\n",
    "print(a,b)\n",
    "print(a>b)\n",
    "print(a<b)\n",
    "print(a>=b)\n",
    "print(a<=b)\n",
    "print(a==b)\n",
    "print(a!=b)\n",
    "c=40\n",
    "print(a,b,c)\n",
    "print(c>a and c>b)\n",
    "print(a>b or b>c)\n",
    "print(not a>b)"
   ]
  },
  {
   "cell_type": "code",
   "execution_count": 38,
   "metadata": {},
   "outputs": [
    {
     "name": "stdout",
     "output_type": "stream",
     "text": [
      "10 5\n",
      "0b1010 0b101\n",
      "0 0b0\n",
      "15 0b1111\n",
      "15 0b1111\n",
      "-0b1011 -11\n",
      "0b1010 10\n",
      "0b101000 40\n",
      "0b10 2\n"
     ]
    }
   ],
   "source": [
    "#bitwise operators\n",
    "print(a,b)\n",
    "print(bin(a),bin(b))\n",
    "print(a&b, bin(a&b))\n",
    "print(a|b,bin(a|b))\n",
    "print(a^b,bin(a^b)) #exor?\n",
    "print(bin(~a),~a)\n",
    "\n",
    "print(bin(a),a)\n",
    "print(bin(a<<2),a<<2)\n",
    "print(bin(a>>2),a>>2)"
   ]
  },
  {
   "cell_type": "code",
   "execution_count": 43,
   "metadata": {},
   "outputs": [
    {
     "name": "stdout",
     "output_type": "stream",
     "text": [
      "True\n",
      "False\n",
      "True\n",
      "True\n"
     ]
    }
   ],
   "source": [
    "#membership operators\n",
    "lst = [1,2,4,5,3]\n",
    "x = 2\n",
    "print(x in lst)\n",
    "print(x not in lst)\n",
    "\n",
    "#identity operator\n",
    "x ,y =10,10\n",
    "print(x is y)\n",
    "x,y=10,12\n",
    "print(x is not y)"
   ]
  },
  {
   "cell_type": "code",
   "execution_count": 50,
   "metadata": {},
   "outputs": [
    {
     "name": "stdout",
     "output_type": "stream",
     "text": [
      "5.0\n",
      "3.141592653589793\n",
      "3.141592653589793\n",
      "10\n",
      "400.0\n",
      "6\n"
     ]
    }
   ],
   "source": [
    "import math\n",
    "print(math.sqrt(25))\n",
    "#there is a lot in the math module\n",
    "print(math.pi)\n",
    "\n",
    "from math import pi\n",
    "print(pi)\n",
    "\n",
    "print(math.ceil(9.5))\n",
    "print(math.pow(20,2))\n",
    "print(math.factorial(3))"
   ]
  },
  {
   "cell_type": "code",
   "execution_count": 7,
   "metadata": {},
   "outputs": [
    {
     "name": "stdout",
     "output_type": "stream",
     "text": [
      "divya\n",
      "<class 'str'>\n",
      "divya is 25 years old\n",
      "ghtu\n",
      "34 <class 'int'>\n"
     ]
    }
   ],
   "source": [
    "#inline input\n",
    "name = input(\"enter your name\\n\")\n",
    "print(name)\n",
    "age = input('enter age')\n",
    "print(type(age))\n",
    "#inputs come up in strings\n",
    "print(\"%s is %d years old\"%(name,int(age)))\n",
    "x = input(\"enter a word\")[:4]\n",
    "print(x)\n",
    "a = int(input('enter a number'))\n",
    "print(a,type(a))\n"
   ]
  },
  {
   "cell_type": "code",
   "execution_count": 13,
   "metadata": {},
   "outputs": [
    {
     "name": "stdout",
     "output_type": "stream",
     "text": [
      "25\n",
      "a multiple of 5\n",
      "this is what happens next\n",
      "6 is the greatest number\n",
      "you are not eligible for any discount\n"
     ]
    }
   ],
   "source": [
    "#if, while, for, breal,continue\n",
    "a = int(input('enter a number'))\n",
    "print(a)\n",
    "if a%5==0:\n",
    "    print(\"a multiple of 5\")\n",
    "else:\n",
    "    print('not multiple of 5')\n",
    "print('this is what happens next')\n",
    "\n",
    "a = int(input('enter a number'))\n",
    "b = int(input('enter a number'))\n",
    "c = int(input('enter a number'))\n",
    "if a>b and a>c:\n",
    "    print(a,'is greatest number')\n",
    "elif b>a and b>c:\n",
    "    print(b,'is greatest number')\n",
    "else:\n",
    "    print(c,'is the greatest number')\n",
    "    \n",
    "age = int(input(\"enter age\"))\n",
    "if age>=60:\n",
    "    print(\"you are eligible for senior citizen discount\")\n",
    "else:\n",
    "    if age<=18:\n",
    "        print(\"you are eligible for minor discount\")\n",
    "    else:\n",
    "        print(\"you are not eligible for any discount\")"
   ]
  },
  {
   "cell_type": "code",
   "execution_count": 17,
   "metadata": {},
   "outputs": [
    {
     "name": "stdout",
     "output_type": "stream",
     "text": [
      "0 python\n",
      "1 python\n",
      "2 python\n",
      "3 python\n",
      "4 python\n",
      "['12', '34', '0']\n"
     ]
    }
   ],
   "source": [
    "word = \"python\"\n",
    "i = 0\n",
    "while i<5:\n",
    "    print(i,word)\n",
    "    i+=1\n",
    "\n",
    "lst = []\n",
    "c=0\n",
    "#c = input(\"enter 1 to add elements to list, 0 to exit\")\n",
    "while c!= '0':\n",
    "    ele = input(\"enter element\")\n",
    "    lst.append(ele)\n",
    "    c = input(\"enter 1 to add elements to list, 0 to exit\")\n",
    "print(lst)"
   ]
  },
  {
   "cell_type": "code",
   "execution_count": null,
   "metadata": {},
   "outputs": [],
   "source": []
  }
 ],
 "metadata": {
  "kernelspec": {
   "display_name": "Python 3",
   "language": "python",
   "name": "python3"
  },
  "language_info": {
   "codemirror_mode": {
    "name": "ipython",
    "version": 3
   },
   "file_extension": ".py",
   "mimetype": "text/x-python",
   "name": "python",
   "nbconvert_exporter": "python",
   "pygments_lexer": "ipython3",
   "version": "3.10.6"
  },
  "orig_nbformat": 4
 },
 "nbformat": 4,
 "nbformat_minor": 2
}
